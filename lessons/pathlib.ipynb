{
 "cells": [
  {
   "cell_type": "markdown",
   "metadata": {},
   "source": [
    "# Introduction to Pathlib\n",
    "\n",
    "See https://realpython.com/python-pathlib for a useful tutorial."
   ]
  },
  {
   "cell_type": "code",
   "execution_count": 1,
   "metadata": {},
   "outputs": [
    {
     "name": "stdout",
     "output_type": "stream",
     "text": [
      "Current directory: c:\\Users\\jostev\\github\\python-improvers-2\\lessons\n",
      "Joining a path: c:\\Users\\jostev\\github\\python-improvers-2\\lessons\\my_new_dir\n",
      "<class 'str'>\n"
     ]
    }
   ],
   "source": [
    "import datetime as dt\n",
    "import os\n",
    "from pathlib import Path\n",
    "import shutil\n",
    "import tempfile\n",
    "\n",
    "\n",
    "# `os` module used to be the way to do it\n",
    "current_dir = os.getcwd()\n",
    "print(f\"Current directory: {current_dir}\")\n",
    "\n",
    "new_dir = os.path.join(os.getcwd(), 'my_new_dir')\n",
    "print(f\"Joining a path: {new_dir}\")\n",
    "\n",
    "# note that paths are strings\n",
    "print(type(new_dir))"
   ]
  },
  {
   "cell_type": "code",
   "execution_count": 2,
   "metadata": {},
   "outputs": [
    {
     "name": "stdout",
     "output_type": "stream",
     "text": [
      "c:\\Users\\jostev\\github\\python-improvers-2\\lessons\n",
      "<class 'pathlib.WindowsPath'>\n",
      "is_file(): False\n",
      "exists(): True\n",
      "parent: c:\\Users\\jostev\\github\\python-improvers-2\n"
     ]
    }
   ],
   "source": [
    "## Pathlib uses Path objects\n",
    "current_dir = Path.cwd()\n",
    "\n",
    "print(current_dir)\n",
    "print(type(current_dir))\n",
    "print(f\"is_file(): {current_dir.is_file()}\")\n",
    "print(f\"exists(): {current_dir.exists()}\")\n",
    "print(f\"parent: {current_dir.parent}\")\n",
    "    "
   ]
  },
  {
   "cell_type": "markdown",
   "metadata": {},
   "source": [
    "In a script, you can use the __file__ variable to get current directory,\n",
    "but this doesn't work in notebooks.\n",
    "\n",
    "```python\n",
    "SCRIPT_DIR = Path(__file__).parent\n",
    "print(f\"script_dir: {SCRIPT_DIR}\")\n",
    "```"
   ]
  },
  {
   "cell_type": "code",
   "execution_count": 3,
   "metadata": {},
   "outputs": [
    {
     "name": "stdout",
     "output_type": "stream",
     "text": [
      "file exists: True\n",
      "file contents: Hello World!\n",
      "file exists: True\n",
      "directory contents: [WindowsPath('c:/Users/jostev/github/python-improvers-2/work/hello.txt')]\n"
     ]
    }
   ],
   "source": [
    "# Pathlib can create directories and files.\n",
    "working_dir = current_dir.parent / \"work\"\n",
    "working_dir.mkdir(exist_ok=True)\n",
    "\n",
    "hello_file = working_dir / \"hello.txt\"\n",
    "print(f\"file exists: {hello_file.exists()}\")\n",
    "\n",
    "# write_text writes text.  Compare this to other file writing methods.\n",
    "hello_file.write_text(\"Hello World!\")\n",
    "\n",
    "print(f\"file contents: {hello_file.read_text()}\")\n",
    "print(f\"file exists: {hello_file.exists()}\")\n",
    "print(f\"directory contents: {list(working_dir.iterdir())}\")"
   ]
  },
  {
   "cell_type": "code",
   "execution_count": 4,
   "metadata": {},
   "outputs": [
    {
     "name": "stdout",
     "output_type": "stream",
     "text": [
      "name: hello.txt\n",
      "suffix: .txt\n",
      "stem: hello\n",
      "absolute path: c:\\Users\\jostev\\github\\python-improvers-2\\work\\hello.txt\n",
      "parent: c:\\Users\\jostev\\github\\python-improvers-2\\work\n",
      "<class 'os.stat_result'>\n",
      "modified: 2025-01-20 23:44:40.725101\n",
      "size: 12 bytes\n"
     ]
    }
   ],
   "source": [
    "# Pathlib can retrieve information about files\n",
    "print(f\"name: {hello_file.name}\")\n",
    "print(f\"suffix: {hello_file.suffix}\")\n",
    "print(f\"stem: {hello_file.stem}\")\n",
    "print(f\"absolute path: {hello_file.absolute()}\")\n",
    "print(f\"parent: {hello_file.parent}\")\n",
    "\n",
    "print(type(hello_file.stat()))\n",
    "print(f\"modified: {dt.datetime.fromtimestamp(hello_file.stat().st_mtime)}\")\n",
    "print(f\"size: {hello_file.stat().st_size} bytes\")"
   ]
  },
  {
   "cell_type": "code",
   "execution_count": 5,
   "metadata": {},
   "outputs": [
    {
     "name": "stdout",
     "output_type": "stream",
     "text": [
      "classes.ipynb\n",
      "exceptions.ipynb\n",
      "pathlib.ipynb\n",
      "text_parse.ipynb\n",
      "time_series_data.ipynb\n"
     ]
    }
   ],
   "source": [
    "# Use glob and rglob to list files\n",
    "for file_ in current_dir.glob(\"*.ipynb\"):\n",
    "    print(file_.name)\n"
   ]
  },
  {
   "cell_type": "markdown",
   "metadata": {},
   "source": [
    "### Exercise\n",
    "\n",
    "+ Write a script that will print the size of the largest `.txt` file in the data directory."
   ]
  },
  {
   "cell_type": "code",
   "execution_count": 6,
   "metadata": {},
   "outputs": [
    {
     "name": "stdout",
     "output_type": "stream",
     "text": [
      "name: c:\\Users\\jostev\\github\\python-improvers-2\\work\\hello.txt\n",
      "exists: False\n",
      "new name: c:\\Users\\jostev\\github\\python-improvers-2\\work\\hello_again.txt\n",
      "exists: True\n"
     ]
    }
   ],
   "source": [
    "# Use rename to rename. Note that original Path location is unchanged.\n",
    "new_hello_file = hello_file.parent / 'hello_again.txt'\n",
    "hello_file.rename(new_hello_file)\n",
    "print(f\"name: {hello_file.absolute()}\")\n",
    "print(f\"exists: {hello_file.exists()}\")\n",
    "print(f\"new name: {new_hello_file.absolute()}\")\n",
    "print(f\"exists: {new_hello_file.exists()}\")"
   ]
  },
  {
   "cell_type": "code",
   "execution_count": 7,
   "metadata": {},
   "outputs": [],
   "source": [
    "# Use unlink to delete a file or directory\n",
    "new_hello_file.unlink(missing_ok=True)"
   ]
  },
  {
   "cell_type": "code",
   "execution_count": 8,
   "metadata": {},
   "outputs": [
    {
     "name": "stdout",
     "output_type": "stream",
     "text": [
      "temp dir name: C:\\Users\\jostev\\AppData\\Local\\Temp\\tmp3705zdim\n",
      "exists: True\n",
      "new name: C:\\Users\\jostev\\AppData\\Local\\Temp\\tmp3705zdim\\hello.txt\n",
      "new files: [WindowsPath('C:/Users/jostev/AppData/Local/Temp/tmp3705zdim/classes.ipynb'), WindowsPath('C:/Users/jostev/AppData/Local/Temp/tmp3705zdim/exceptions.ipynb'), WindowsPath('C:/Users/jostev/AppData/Local/Temp/tmp3705zdim/functions.md'), WindowsPath('C:/Users/jostev/AppData/Local/Temp/tmp3705zdim/hello.txt'), WindowsPath('C:/Users/jostev/AppData/Local/Temp/tmp3705zdim/pathlib.ipynb'), WindowsPath('C:/Users/jostev/AppData/Local/Temp/tmp3705zdim/pythonic_code.md'), WindowsPath('C:/Users/jostev/AppData/Local/Temp/tmp3705zdim/style_and_linting.md'), WindowsPath('C:/Users/jostev/AppData/Local/Temp/tmp3705zdim/text_parse.ipynb'), WindowsPath('C:/Users/jostev/AppData/Local/Temp/tmp3705zdim/time_series_data.ipynb')]\n"
     ]
    }
   ],
   "source": [
    "# tempfile can create temporary directories (it is normally used as context manager)\n",
    "temp_dir = tempfile.TemporaryDirectory(delete=False)\n",
    "temp_dir = Path(temp_dir.name)\n",
    "print(f\"temp dir name: {temp_dir}\")\n",
    "print(f\"exists: {temp_dir.exists()}\")\n",
    "\n",
    "# Use shutil for copying files (copy2 includes metadata), it returns the new name.\n",
    "hello_file.write_text(\"Here is a new file.\")\n",
    "hello_file_copy = Path(shutil.copy2(hello_file, temp_dir))\n",
    "print(f\"new name: {hello_file_copy}\")\n",
    "\n",
    "# Directories can also be copied\n",
    "current_dir_copy = Path(shutil.copytree(current_dir, temp_dir, dirs_exist_ok=True))\n",
    "print(f\"new files: {list(current_dir_copy.iterdir())}\")\n"
   ]
  },
  {
   "cell_type": "code",
   "execution_count": 9,
   "metadata": {},
   "outputs": [],
   "source": [
    "# Use shutil rmtree for bulk delete\n",
    "shutil.rmtree(temp_dir)"
   ]
  },
  {
   "cell_type": "markdown",
   "metadata": {},
   "source": [
    "### Exercise\n",
    "\n",
    "Write a script that will:\n",
    "\n",
    "+ create a folder called \"data_backup\"\n",
    "+ copy all the .txt files from the data directory across, renaming them to `.txt.backup`"
   ]
  }
 ],
 "metadata": {
  "kernelspec": {
   "display_name": "base",
   "language": "python",
   "name": "python3"
  },
  "language_info": {
   "codemirror_mode": {
    "name": "ipython",
    "version": 3
   },
   "file_extension": ".py",
   "mimetype": "text/x-python",
   "name": "python",
   "nbconvert_exporter": "python",
   "pygments_lexer": "ipython3",
   "version": "3.12.4"
  }
 },
 "nbformat": 4,
 "nbformat_minor": 2
}
