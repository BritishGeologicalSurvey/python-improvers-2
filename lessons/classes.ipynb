{
 "cells": [
  {
   "cell_type": "markdown",
   "metadata": {},
   "source": [
    "# Modules and Classes"
   ]
  },
  {
   "cell_type": "code",
   "execution_count": 17,
   "metadata": {},
   "outputs": [
    {
     "name": "stdout",
     "output_type": "stream",
     "text": [
      "['c:\\\\Users\\\\jostev\\\\github\\\\python-improvers-2\\\\src\\\\climate_paper_v2', 'c:\\\\Users\\\\jostev\\\\github\\\\python-improvers-2\\\\src\\\\climate_paper_v2', 'c:\\\\Users\\\\jostev\\\\github\\\\python-improvers-2\\\\lessons', 'c:\\\\ProgramData\\\\anaconda3\\\\python312.zip', 'c:\\\\ProgramData\\\\anaconda3\\\\DLLs', 'c:\\\\ProgramData\\\\anaconda3\\\\Lib', 'c:\\\\ProgramData\\\\anaconda3', '', 'C:\\\\Users\\\\jostev\\\\AppData\\\\Roaming\\\\Python\\\\Python312\\\\site-packages', 'c:\\\\ProgramData\\\\anaconda3\\\\Lib\\\\site-packages', 'c:\\\\ProgramData\\\\anaconda3\\\\Lib\\\\site-packages\\\\win32', 'c:\\\\ProgramData\\\\anaconda3\\\\Lib\\\\site-packages\\\\win32\\\\lib', 'c:\\\\ProgramData\\\\anaconda3\\\\Lib\\\\site-packages\\\\Pythonwin']\n"
     ]
    }
   ],
   "source": [
    "import dataclasses\n",
    "import datetime as dt\n",
    "import json\n",
    "from pathlib import Path\n",
    "import sys\n",
    "\n",
    "# Make climate_paper_v2 files importable\n",
    "CURRENT_DIR = Path.cwd()\n",
    "CLIMATE_PAPER_DIR = CURRENT_DIR.parent / 'src' / 'climate_paper_v2'\n",
    "sys.path.insert(0, str(CLIMATE_PAPER_DIR.absolute()))\n",
    "print(sys.path)"
   ]
  },
  {
   "cell_type": "markdown",
   "metadata": {},
   "source": [
    "## Modules\n",
    "\n",
    "Modules are Python files that can be imported.  Importing a module executes the Python in the file."
   ]
  },
  {
   "cell_type": "code",
   "execution_count": 2,
   "metadata": {},
   "outputs": [
    {
     "name": "stdout",
     "output_type": "stream",
     "text": [
      "Hello from c:\\Users\\jostev\\github\\python-improvers-2\\src\\climate_paper_v2\\climate_paper_figs.py body!\n",
      "climate_paper_figs\n",
      "Informatics\n",
      "Hello Sarah from Informatics\n"
     ]
    }
   ],
   "source": [
    "import climate_paper_figs as cpf\n",
    "import hello\n",
    "print(cpf.__name__)\n",
    "print(hello.TEAM_NAME)\n",
    "hello.say_hello('Sarah')\n",
    "\n",
    "#help(hello)"
   ]
  },
  {
   "cell_type": "code",
   "execution_count": 3,
   "metadata": {},
   "outputs": [
    {
     "name": "stdout",
     "output_type": "stream",
     "text": [
      "DATA_DIR defined in module: c:\\Users\\jostev\\github\\python-improvers-2\\data\n",
      "Station name from file path: some_station\n"
     ]
    }
   ],
   "source": [
    "# We can access variables and functions\n",
    "print(f\"DATA_DIR defined in module: {cpf.DATA_DIR}\")\n",
    "station_file_path = Path('some_stationdata.txt')\n",
    "print(f\"Station name from file path: {cpf.get_station_name(station_file_path)}\")"
   ]
  },
  {
   "cell_type": "markdown",
   "metadata": {},
   "source": [
    "### Exercise\n",
    "\n",
    "+ Create your own module, called \"hello\" in climate_paper_v2 directory with a function \"say_hello\" and define a constant with your team name, called TEAM_NAME too.\n",
    "+ Import and run it.\n",
    "+ Add a module and function docstring and view them with help()\n",
    "+ Modify to say \"hello person from team\", with TEAM_NAME as a default"
   ]
  },
  {
   "cell_type": "markdown",
   "metadata": {},
   "source": [
    "## Classes for data\n",
    "\n",
    "Classes are another way to group variables (attributes) and functions (methods).  Everything is a class.\n",
    "`dir` shows the attributes and methods that are present.  The private \"__dunder__\" methods determine\n",
    "class behaviour within Python."
   ]
  },
  {
   "cell_type": "code",
   "execution_count": 4,
   "metadata": {},
   "outputs": [
    {
     "name": "stdout",
     "output_type": "stream",
     "text": [
      "type: <class 'int'>\n",
      "Is it an integer: True\n"
     ]
    },
    {
     "data": {
      "text/plain": [
       "list"
      ]
     },
     "execution_count": 4,
     "metadata": {},
     "output_type": "execute_result"
    }
   ],
   "source": [
    "my_integer = 1\n",
    "print(f\"type: {type(my_integer)}\")\n",
    "dir(my_integer)\n",
    "print(f\"Is it an integer: {isinstance(my_integer, int)}\")\n",
    "my_list = [1, 2, 3]\n",
    "type(my_list)"
   ]
  },
  {
   "cell_type": "code",
   "execution_count": 5,
   "metadata": {},
   "outputs": [
    {
     "name": "stdout",
     "output_type": "stream",
     "text": [
      "1\n",
      "An instance of MyClass with an attribute of 1\n",
      "A class that I made.\n"
     ]
    }
   ],
   "source": [
    "# A simple class needs a function (__init__) to initialise it.\n",
    "# A __repr__ function defines how it is printed.\n",
    "# The methods of the class instance take \"self\" as the first parameter\n",
    "# which allows them to access internal data.\n",
    "\n",
    "class MyClass:\n",
    "    \"\"\"A class that I made.\"\"\"\n",
    "    def __init__(self, attribute: int):\n",
    "        self.attribute = attribute\n",
    "    \n",
    "    def __repr__(self):\n",
    "        return f\"An instance of MyClass with an attribute of {self.attribute}\"\n",
    "\n",
    "my_instance = MyClass(1)\n",
    "another_instance = MyClass(2)\n",
    "print(my_instance.attribute)\n",
    "print(my_instance)\n",
    "print(my_instance.__doc__)\n",
    "\n",
    "#my_instance + another_instance"
   ]
  },
  {
   "cell_type": "code",
   "execution_count": 6,
   "metadata": {},
   "outputs": [
    {
     "data": {
      "text/plain": [
       "An instance of MyClass with an attribute of 6"
      ]
     },
     "execution_count": 6,
     "metadata": {},
     "output_type": "execute_result"
    }
   ],
   "source": [
    "# We are going to implement the add method here.\n",
    "class MyClass:\n",
    "    \"\"\"A class that I made.\"\"\"\n",
    "    def __init__(self, attribute: int):\n",
    "        self.attribute = attribute\n",
    "    \n",
    "    def __repr__(self):\n",
    "        return f\"An instance of MyClass with an attribute of {self.attribute}\"\n",
    "    \n",
    "    def __add__(self, other: MyClass):\n",
    "        attribute_sum = self.attribute + other.attribute\n",
    "        return MyClass(attribute_sum)\n",
    "\n",
    "my_instance = MyClass(1)\n",
    "another_instance = MyClass(2)\n",
    "third_instance = MyClass(3)\n",
    "\n",
    "my_instance + another_instance + third_instance\n"
   ]
  },
  {
   "cell_type": "code",
   "execution_count": null,
   "metadata": {},
   "outputs": [],
   "source": []
  },
  {
   "cell_type": "code",
   "execution_count": 7,
   "metadata": {},
   "outputs": [
    {
     "name": "stdout",
     "output_type": "stream",
     "text": [
      "MontoringStation(sensor_type='Guralp 2000', sensor_serial_number=1234, longitude=-3.1, latitude=54.0, deploy_date=datetime.date(2023, 1, 20))\n",
      "serial number: 1234\n",
      "new serial number: 5678\n",
      "asdict: {'sensor_type': 'Guralp 2000', 'sensor_serial_number': 5678, 'longitude': -3.1, 'latitude': 54.0, 'deploy_date': datetime.date(2023, 1, 20)}\n"
     ]
    }
   ],
   "source": [
    "# Dataclasses are a convenient way to store data with a __repr__ and __init__\n",
    "# and with type hints to help keep your code right.\n",
    "# This example is similar to a row from a database table.\n",
    "\n",
    "@dataclasses.dataclass\n",
    "class MontoringStation:\n",
    "    sensor_type: str\n",
    "    sensor_serial_number: int\n",
    "    longitude: float\n",
    "    latitude: float\n",
    "    deploy_date: dt.date\n",
    "\n",
    "\n",
    "station = MontoringStation(\n",
    "    sensor_type=\"Guralp 2000\",\n",
    "    sensor_serial_number=1234,\n",
    "    longitude=-3.1,\n",
    "    latitude=54.0,\n",
    "    deploy_date=dt.date(2023, 1, 20)\n",
    ")\n",
    "\n",
    "print(station)\n",
    "\n",
    "# Attributes are accessed and updated using . notation\n",
    "print(f\"serial number: {station.sensor_serial_number}\")\n",
    "station.sensor_serial_number = 5678\n",
    "print(f\"new serial number: {station.sensor_serial_number}\")\n",
    "\n",
    "# Dataclasses can conveniently be turned into dictionaries or tuples\n",
    "print(f\"asdict: {dataclasses.asdict(station)}\")"
   ]
  },
  {
   "cell_type": "code",
   "execution_count": 8,
   "metadata": {},
   "outputs": [
    {
     "name": "stdout",
     "output_type": "stream",
     "text": [
      "uptime: 733 days\n",
      "uptime defined as standalone function: 733\n",
      "is a guralp: True\n"
     ]
    }
   ],
   "source": [
    "# Classes can have methods that act on their attributes.\n",
    "\n",
    "@dataclasses.dataclass\n",
    "class MontoringStation:\n",
    "    sensor_type: str\n",
    "    sensor_serial_number: int\n",
    "    longitude: float\n",
    "    latitude: float\n",
    "    deploy_date: dt.date\n",
    "\n",
    "    def uptime(self) -> int:\n",
    "        \"\"\"Return time since deploy date in days\"\"\"\n",
    "        delta = dt.date.today() - self.deploy_date\n",
    "        return delta.days\n",
    "    \n",
    "    def is_guralp(self) -> bool:\n",
    "        return \"guralp\" in self.sensor_type.lower()\n",
    "\n",
    "\n",
    "station = MontoringStation(\n",
    "    sensor_type=\"Guralp 2000\",\n",
    "    sensor_serial_number=1234,\n",
    "    longitude=-3.1,\n",
    "    latitude=54.0,\n",
    "    deploy_date=dt.date(2023, 1, 20)\n",
    ")\n",
    "\n",
    "# A standalone function would need to be moved / imported wherever you wanted to use it.\n",
    "def get_station_uptime(station: MontoringStation):\n",
    "    delta = dt.date.today() - station.deploy_date\n",
    "    return delta.days\n",
    "\n",
    "print(f\"uptime: {station.uptime()} days\")\n",
    "print(f\"uptime defined as standalone function: {get_station_uptime(station)}\")\n",
    "print(f\"is a guralp: {station.is_guralp()}\")"
   ]
  },
  {
   "cell_type": "code",
   "execution_count": 9,
   "metadata": {},
   "outputs": [
    {
     "data": {
      "text/plain": [
       "True"
      ]
     },
     "execution_count": 9,
     "metadata": {},
     "output_type": "execute_result"
    }
   ],
   "source": [
    "sensor_type = \"guralp 2000\"\n",
    "\"Guralp\".lower() in sensor_type.lower()"
   ]
  },
  {
   "cell_type": "markdown",
   "metadata": {},
   "source": [
    "### Exercise\n",
    "\n",
    "+ Add an `is_guralp()` method that checks if the station was made by Guralp."
   ]
  },
  {
   "cell_type": "code",
   "execution_count": 10,
   "metadata": {},
   "outputs": [
    {
     "name": "stdout",
     "output_type": "stream",
     "text": [
      "Current position: -3.1, 54.0. Deployed 1 times\n",
      "Current position: -1, 51. Deployed 2 times\n",
      "Current position: 5, 75. Deployed 3 times\n",
      "[(-3.1, 54.0, datetime.date(2023, 1, 20)), (-1, 51, datetime.date(2024, 4, 1))]\n",
      "yes I can\n"
     ]
    }
   ],
   "source": [
    "# Classes can keep a record of past states with custom updates.\n",
    "@dataclasses.dataclass\n",
    "class MontoringStation:\n",
    "    sensor_type: str\n",
    "    sensor_serial_number: int\n",
    "    longitude: float\n",
    "    latitude: float\n",
    "    deploy_date: dt.date\n",
    "\n",
    "    def __post_init__(self):\n",
    "        self.previous_deployments: list[tuple[float, float, dt.date]] = []\n",
    "        self._protected_attribute = \"Can't touch this\"\n",
    "    \n",
    "    @property\n",
    "    def protected_attribute(self):\n",
    "        return self._protected_attribute\n",
    "\n",
    "    def uptime(self) -> int:\n",
    "        \"\"\"Return time since deploy date in days\"\"\"\n",
    "        delta = dt.date.today() - self.deploy_date\n",
    "        return delta.days\n",
    "\n",
    "    def deploy(\n",
    "        self, longitude: float, latitude: float, deploy_date: dt.date = dt.date.today()\n",
    "    ):\n",
    "        \"\"\"Record a new deployment of the sensor.\"\"\"\n",
    "        # Store old deployment\n",
    "        current_deployment = (self.longitude, self.latitude, self.deploy_date)\n",
    "        self.previous_deployments.append(current_deployment)\n",
    "\n",
    "        # Update current attributes\n",
    "        self.longitude = longitude\n",
    "        self.latitude = latitude\n",
    "        self.deploy_date = deploy_date\n",
    "    \n",
    "    # A property is a method that takes only \"self\" as an argument and\n",
    "    # behaves like an (read only in this case) attribute.\n",
    "    @property\n",
    "    def deployments_count(self):\n",
    "        return len(self.previous_deployments) + 1\n",
    "\n",
    "\n",
    "station = MontoringStation(\n",
    "    sensor_type=\"Guralp 2000\",\n",
    "    sensor_serial_number=1234,\n",
    "    latitude=54.0,\n",
    "    longitude=-3.1,\n",
    "    deploy_date=dt.date(2023, 1, 20)\n",
    ")\n",
    "\n",
    "print(f\"Current position: {station.longitude}, {station.latitude}. Deployed {station.deployments_count} times\")\n",
    "station.deploy(-1, 51, deploy_date=dt.date(2024, 4, 1))\n",
    "print(f\"Current position: {station.longitude}, {station.latitude}. Deployed {station.deployments_count} times\")\n",
    "station.deploy(5, 75)\n",
    "print(f\"Current position: {station.longitude}, {station.latitude}. Deployed {station.deployments_count} times\")\n",
    "print(station.previous_deployments)\n",
    "station.sensor_type = \"another type\"\n",
    "\n",
    "station._protected_attribute = \"yes I can\"\n",
    "print(station.protected_attribute)"
   ]
  },
  {
   "cell_type": "code",
   "execution_count": 11,
   "metadata": {},
   "outputs": [
    {
     "name": "stdout",
     "output_type": "stream",
     "text": [
      "seismic uptime: 11690 days\n",
      "geomag deployments: 1\n"
     ]
    }
   ],
   "source": [
    "# Inheritance allows classes to reuse code.\n",
    "@dataclasses.dataclass\n",
    "class SeismicMonitoringStation(MontoringStation):\n",
    "    borehole_installation: bool\n",
    "\n",
    "\n",
    "@dataclasses.dataclass\n",
    "class GeoMagMonitoringStation(MontoringStation):\n",
    "    variometer: bool\n",
    "\n",
    "\n",
    "seismic_station = SeismicMonitoringStation(\n",
    "    sensor_type=\"Guralp 2000\",\n",
    "    sensor_serial_number=1234,\n",
    "    latitude=54.0,\n",
    "    longitude=-3.1,\n",
    "    deploy_date=dt.date(1993, 1, 20),\n",
    "    borehole_installation=True\n",
    ")\n",
    "\n",
    "geomag_station = GeoMagMonitoringStation(\n",
    "    sensor_type=\"MagTastic SuperPro\",\n",
    "    sensor_serial_number=9999,\n",
    "    latitude=54.0,\n",
    "    longitude=-3.1,\n",
    "    deploy_date=dt.date(2003, 3, 5),\n",
    "    variometer=True\n",
    ")\n",
    "\n",
    "print(f\"seismic uptime: {seismic_station.uptime()} days\")\n",
    "print(f\"geomag deployments: {geomag_station.deployments_count}\")"
   ]
  },
  {
   "cell_type": "markdown",
   "metadata": {},
   "source": [
    "### Exercise\n",
    "\n",
    "+ Create a MonitoringStationCatalog class.  Internally, it should store a private list of stations with a public-facing `register` method that adds in a new station. It should have a public method for `get_station_count`\n",
    "+ Add in the stations above.\n",
    "+ Add a `locations()` function that returns a list of tuples of (serial_number, longitude, latitude) as the value.\n",
    "+ Note what happens to the locations() result when you redeploy any of the stations.\n",
    "+ BONUS: add an `unregister` function that removes a station based on the serial number."
   ]
  },
  {
   "cell_type": "code",
   "execution_count": 21,
   "metadata": {},
   "outputs": [
    {
     "name": "stdout",
     "output_type": "stream",
     "text": [
      "MonitoringStationCatalog for SAGE project with 2 stations\n",
      "{9999: GeoMagMonitoringStation(sensor_type='MagTastic SuperPro', sensor_serial_number=9999, longitude=-3.1, latitude=54.0, deploy_date=datetime.date(2003, 3, 5), variometer=True), 1234: SeismicMonitoringStation(sensor_type='Guralp 2000', sensor_serial_number=1234, longitude=-3.1, latitude=54.0, deploy_date=datetime.date(1993, 1, 20), borehole_installation=True)}\n",
      "[(9999, -3.1, 54.0), (1234, -3.1, 54.0)]\n",
      "[(9999, 10, 0), (1234, -3.1, 54.0)]\n",
      "[(9999, 10, 0), (1234, 90, -10)]\n",
      "{\n",
      "  \"type\": \"FeatureCollection\",\n",
      "  \"features\": [\n",
      "    {\n",
      "      \"type\": \"Feature\",\n",
      "      \"geometry\": {\n",
      "        \"type\": \"Point\",\n",
      "        \"coordinates\": [\n",
      "          10,\n",
      "          0\n",
      "        ]\n",
      "      },\n",
      "      \"properties\": {\n",
      "        \"serial\": 9999\n",
      "      }\n",
      "    },\n",
      "    {\n",
      "      \"type\": \"Feature\",\n",
      "      \"geometry\": {\n",
      "        \"type\": \"Point\",\n",
      "        \"coordinates\": [\n",
      "          90,\n",
      "          -10\n",
      "        ]\n",
      "      },\n",
      "      \"properties\": {\n",
      "        \"serial\": 1234\n",
      "      }\n",
      "    }\n",
      "  ]\n",
      "}\n"
     ]
    },
    {
     "data": {
      "text/plain": [
       "466"
      ]
     },
     "execution_count": 21,
     "metadata": {},
     "output_type": "execute_result"
    }
   ],
   "source": [
    "class MonitoringStationCatalog:\n",
    "    def __init__(self, project: str):\n",
    "        self.project = project\n",
    "        self.stations: dict[int, MontoringStation] = {}\n",
    "    \n",
    "    def register(self, station: MontoringStation):\n",
    "        self.stations[station.sensor_serial_number] = station\n",
    "    \n",
    "    def locations(self) -> list[tuple[int, float, float]]:\n",
    "        locations = []\n",
    "        for station in self.stations.values():\n",
    "            location_data = (station.sensor_serial_number, station.longitude, station.latitude)\n",
    "            locations.append(location_data)\n",
    "        return locations\n",
    "\n",
    "    def locations_as_geojson_featurecollection(self) -> str:\n",
    "        \"\"\"\n",
    "        Converts a list of tuples (serial_number, latitude, longitude) into a GeoJSON FeatureCollection.\n",
    "        \"\"\"\n",
    "        features = []\n",
    "        for name, longitude, latitude in self.locations():\n",
    "            feature = {\n",
    "                \"type\": \"Feature\",\n",
    "                \"geometry\": {\n",
    "                    \"type\": \"Point\",\n",
    "                    \"coordinates\": [longitude, latitude]\n",
    "                },\n",
    "                \"properties\": {\n",
    "                    \"serial\": name\n",
    "                }\n",
    "            }\n",
    "            features.append(feature)\n",
    "\n",
    "        feature_collection = {\n",
    "            \"type\": \"FeatureCollection\",\n",
    "            \"features\": features\n",
    "        }\n",
    "\n",
    "        return json.dumps(feature_collection, indent=2)\n",
    "\n",
    "    def locations_via_list_comprehension(self):\n",
    "        locations = [\n",
    "            (station.sensor_serial_number, station.longitude, station.latitude)\n",
    "            for station in self.stations.values()\n",
    "        ]\n",
    "        return locations\n",
    "    \n",
    "    def __repr__(self):\n",
    "        return f\"MonitoringStationCatalog for {self.project} project with {len(self.stations)} stations\"\n",
    "\n",
    "\n",
    "seismic_station = SeismicMonitoringStation(\n",
    "    sensor_type=\"Guralp 2000\",\n",
    "    sensor_serial_number=1234,\n",
    "    latitude=54.0,\n",
    "    longitude=-3.1,\n",
    "    deploy_date=dt.date(1993, 1, 20),\n",
    "    borehole_installation=True\n",
    ")\n",
    "\n",
    "geomag_station = GeoMagMonitoringStation(\n",
    "    sensor_type=\"MagTastic SuperPro\",\n",
    "    sensor_serial_number=9999,\n",
    "    latitude=54.0,\n",
    "    longitude=-3.1,\n",
    "    deploy_date=dt.date(2003, 3, 5),\n",
    "    variometer=True\n",
    ")\n",
    "\n",
    "\n",
    "sage_catalog = MonitoringStationCatalog(project=\"SAGE\")\n",
    "sage_catalog.register(geomag_station)\n",
    "sage_catalog.register(seismic_station)\n",
    "print(sage_catalog)\n",
    "print(sage_catalog.stations)\n",
    "print(sage_catalog.locations())\n",
    "geomag_station.deploy(10, 0)\n",
    "print(sage_catalog.locations())\n",
    "seismic_station.deploy(90, -10)\n",
    "print(sage_catalog.locations())\n",
    "print(sage_catalog.locations_as_geojson_featurecollection())\n",
    "geojson_result = Path.cwd() / 'sage_catalog_locations.geojson'\n",
    "geojson_result.write_text(sage_catalog.locations_as_geojson_featurecollection())\n",
    "\n",
    "seismic_station.deploy(-3, 56)\n",
    "geojson_result.write_text(sage_catalog.locations_as_geojson_featurecollection())\n"
   ]
  },
  {
   "cell_type": "code",
   "execution_count": null,
   "metadata": {},
   "outputs": [],
   "source": []
  }
 ],
 "metadata": {
  "kernelspec": {
   "display_name": "base",
   "language": "python",
   "name": "python3"
  },
  "language_info": {
   "codemirror_mode": {
    "name": "ipython",
    "version": 3
   },
   "file_extension": ".py",
   "mimetype": "text/x-python",
   "name": "python",
   "nbconvert_exporter": "python",
   "pygments_lexer": "ipython3",
   "version": "3.12.4"
  }
 },
 "nbformat": 4,
 "nbformat_minor": 2
}
