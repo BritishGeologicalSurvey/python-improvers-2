{
 "cells": [
  {
   "cell_type": "markdown",
   "metadata": {},
   "source": [
    "# Modules and Classes"
   ]
  },
  {
   "cell_type": "code",
   "execution_count": 1,
   "metadata": {},
   "outputs": [],
   "source": [
    "import dataclasses\n",
    "import datetime as dt\n",
    "from pathlib import Path\n",
    "import sys\n",
    "\n",
    "# Make climate_paper_v2 files importable\n",
    "CURRENT_DIR = Path.cwd()\n",
    "CLIMATE_PAPER_DIR = CURRENT_DIR.parent / 'src' / 'climate_paper_v2'\n",
    "sys.path.insert(0, str(CLIMATE_PAPER_DIR.absolute()))"
   ]
  },
  {
   "cell_type": "markdown",
   "metadata": {},
   "source": [
    "## Modules\n",
    "\n",
    "Modules are Python files that can be imported.  Importing a module executes the Python in the file."
   ]
  },
  {
   "cell_type": "code",
   "execution_count": 2,
   "metadata": {},
   "outputs": [
    {
     "name": "stdout",
     "output_type": "stream",
     "text": [
      "Hello from c:\\Users\\jostev\\github\\python-improvers-2\\src\\climate_paper_v2\\climate_paper_figs.py body!\n"
     ]
    }
   ],
   "source": [
    "import climate_paper_figs as cpf"
   ]
  },
  {
   "cell_type": "code",
   "execution_count": 3,
   "metadata": {},
   "outputs": [
    {
     "name": "stdout",
     "output_type": "stream",
     "text": [
      "DATA_DIR defined in module: c:\\Users\\jostev\\github\\python-improvers-2\\data\n",
      "Station name from file path: some_station\n"
     ]
    }
   ],
   "source": [
    "# We can access variables and functions\n",
    "print(f\"DATA_DIR defined in module: {cpf.DATA_DIR}\")\n",
    "station_file_path = Path('some_stationdata.txt')\n",
    "print(f\"Station name from file path: {cpf.get_station_name(station_file_path)}\")"
   ]
  },
  {
   "cell_type": "markdown",
   "metadata": {},
   "source": [
    "## Classes for data\n",
    "\n",
    "Classes are another way to group variables (attributes) and functions (methods).  Everything is a class.\n",
    "`dir` shows the attributes and methods that are present.  The private \"__dunder__\" methods determine\n",
    "class behaviour within Python."
   ]
  },
  {
   "cell_type": "code",
   "execution_count": 4,
   "metadata": {},
   "outputs": [
    {
     "name": "stdout",
     "output_type": "stream",
     "text": [
      "type: <class 'int'>\n"
     ]
    },
    {
     "data": {
      "text/plain": [
       "['__abs__',\n",
       " '__add__',\n",
       " '__and__',\n",
       " '__bool__',\n",
       " '__ceil__',\n",
       " '__class__',\n",
       " '__delattr__',\n",
       " '__dir__',\n",
       " '__divmod__',\n",
       " '__doc__',\n",
       " '__eq__',\n",
       " '__float__',\n",
       " '__floor__',\n",
       " '__floordiv__',\n",
       " '__format__',\n",
       " '__ge__',\n",
       " '__getattribute__',\n",
       " '__getnewargs__',\n",
       " '__getstate__',\n",
       " '__gt__',\n",
       " '__hash__',\n",
       " '__index__',\n",
       " '__init__',\n",
       " '__init_subclass__',\n",
       " '__int__',\n",
       " '__invert__',\n",
       " '__le__',\n",
       " '__lshift__',\n",
       " '__lt__',\n",
       " '__mod__',\n",
       " '__mul__',\n",
       " '__ne__',\n",
       " '__neg__',\n",
       " '__new__',\n",
       " '__or__',\n",
       " '__pos__',\n",
       " '__pow__',\n",
       " '__radd__',\n",
       " '__rand__',\n",
       " '__rdivmod__',\n",
       " '__reduce__',\n",
       " '__reduce_ex__',\n",
       " '__repr__',\n",
       " '__rfloordiv__',\n",
       " '__rlshift__',\n",
       " '__rmod__',\n",
       " '__rmul__',\n",
       " '__ror__',\n",
       " '__round__',\n",
       " '__rpow__',\n",
       " '__rrshift__',\n",
       " '__rshift__',\n",
       " '__rsub__',\n",
       " '__rtruediv__',\n",
       " '__rxor__',\n",
       " '__setattr__',\n",
       " '__sizeof__',\n",
       " '__str__',\n",
       " '__sub__',\n",
       " '__subclasshook__',\n",
       " '__truediv__',\n",
       " '__trunc__',\n",
       " '__xor__',\n",
       " 'as_integer_ratio',\n",
       " 'bit_count',\n",
       " 'bit_length',\n",
       " 'conjugate',\n",
       " 'denominator',\n",
       " 'from_bytes',\n",
       " 'imag',\n",
       " 'is_integer',\n",
       " 'numerator',\n",
       " 'real',\n",
       " 'to_bytes']"
      ]
     },
     "execution_count": 4,
     "metadata": {},
     "output_type": "execute_result"
    }
   ],
   "source": [
    "my_integer = 1\n",
    "print(f\"type: {type(my_integer)}\")\n",
    "dir(my_integer)"
   ]
  },
  {
   "cell_type": "code",
   "execution_count": 5,
   "metadata": {},
   "outputs": [
    {
     "name": "stdout",
     "output_type": "stream",
     "text": [
      "my class: MyClass(1)\n",
      "type: <class '__main__.MyClass'>\n"
     ]
    },
    {
     "data": {
      "text/plain": [
       "['__class__',\n",
       " '__delattr__',\n",
       " '__dict__',\n",
       " '__dir__',\n",
       " '__doc__',\n",
       " '__eq__',\n",
       " '__format__',\n",
       " '__ge__',\n",
       " '__getattribute__',\n",
       " '__getstate__',\n",
       " '__gt__',\n",
       " '__hash__',\n",
       " '__init__',\n",
       " '__init_subclass__',\n",
       " '__le__',\n",
       " '__lt__',\n",
       " '__module__',\n",
       " '__ne__',\n",
       " '__new__',\n",
       " '__reduce__',\n",
       " '__reduce_ex__',\n",
       " '__repr__',\n",
       " '__setattr__',\n",
       " '__sizeof__',\n",
       " '__str__',\n",
       " '__subclasshook__',\n",
       " '__weakref__',\n",
       " 'attribute']"
      ]
     },
     "execution_count": 5,
     "metadata": {},
     "output_type": "execute_result"
    }
   ],
   "source": [
    "# A simple class needs a function (__init__) to initialise it.\n",
    "# A __repr__ function defines how it is printed.\n",
    "# The methods of the class instance take \"self\" as the first parameter\n",
    "# which allows them to access internal data.\n",
    "\n",
    "class MyClass:\n",
    "    def __init__(self, attribute: int):\n",
    "        self.attribute = attribute\n",
    "    \n",
    "    def __repr__(self):\n",
    "        return f\"MyClass({self.attribute})\"\n",
    "\n",
    "my_class = MyClass(1)\n",
    "print(f\"my class: {my_class}\")\n",
    "print(f\"type: {type(my_class)}\")\n",
    "dir(my_class)"
   ]
  },
  {
   "cell_type": "code",
   "execution_count": 6,
   "metadata": {},
   "outputs": [
    {
     "name": "stdout",
     "output_type": "stream",
     "text": [
      "MontoringStation(sensor_type='Guralp 2000', sensor_serial_number=1234, longitude=-3.1, latitude=54.0, deploy_date=datetime.date(2023, 1, 20))\n",
      "serial number: 1234\n",
      "new serial number: 5678\n",
      "asdict: {'sensor_type': 'Guralp 2000', 'sensor_serial_number': 5678, 'longitude': -3.1, 'latitude': 54.0, 'deploy_date': datetime.date(2023, 1, 20)}\n"
     ]
    }
   ],
   "source": [
    "# Dataclasses are a convenient way to store data with a __repr__ and __init__\n",
    "# and with type hints to help keep your code right.\n",
    "# This example is similar to a row from a database table.\n",
    "\n",
    "@dataclasses.dataclass\n",
    "class MontoringStation:\n",
    "    sensor_type: str\n",
    "    sensor_serial_number: int\n",
    "    longitude: float\n",
    "    latitude: float\n",
    "    deploy_date: dt.date\n",
    "\n",
    "station = MontoringStation(\n",
    "    sensor_type=\"Guralp 2000\",\n",
    "    sensor_serial_number=1234,\n",
    "    longitude=-3.1,\n",
    "    latitude=54.0,\n",
    "    deploy_date=dt.date(2023, 1, 20)\n",
    ")\n",
    "\n",
    "print(station)\n",
    "\n",
    "# Attributes are accessed and updated using . notation\n",
    "print(f\"serial number: {station.sensor_serial_number}\")\n",
    "station.sensor_serial_number = 5678\n",
    "print(f\"new serial number: {station.sensor_serial_number}\")\n",
    "\n",
    "# Dataclasses can conveniently be turned into dictionaries or tuples\n",
    "print(f\"asdict: {dataclasses.asdict(station)}\")"
   ]
  },
  {
   "cell_type": "code",
   "execution_count": 7,
   "metadata": {},
   "outputs": [
    {
     "name": "stdout",
     "output_type": "stream",
     "text": [
      "uptime: 733 days\n"
     ]
    }
   ],
   "source": [
    "# Classes can have methods that act on their attributes.\n",
    "\n",
    "@dataclasses.dataclass\n",
    "class MontoringStation:\n",
    "    sensor_type: str\n",
    "    sensor_serial_number: int\n",
    "    longitude: float\n",
    "    latitude: float\n",
    "    deploy_date: dt.date\n",
    "\n",
    "    def uptime(self) -> int:\n",
    "        \"\"\"Return time since deploy date in days\"\"\"\n",
    "        delta = dt.date.today() - self.deploy_date\n",
    "        return delta.days\n",
    "\n",
    "station = MontoringStation(\n",
    "    sensor_type=\"Guralp 2000\",\n",
    "    sensor_serial_number=1234,\n",
    "    longitude=-3.1,\n",
    "    latitude=54.0,\n",
    "    deploy_date=dt.date(2023, 1, 20)\n",
    ")\n",
    "\n",
    "print(f\"uptime: {station.uptime()} days\")"
   ]
  },
  {
   "cell_type": "code",
   "execution_count": 8,
   "metadata": {},
   "outputs": [
    {
     "name": "stdout",
     "output_type": "stream",
     "text": [
      "deployments count: 3\n",
      "previous deployments: [(-3.1, 54.0, datetime.date(2023, 1, 20)), (-3.1, 54.0, datetime.date(2023, 1, 20)), (52, -2, datetime.date(2024, 1, 12))]\n"
     ]
    }
   ],
   "source": [
    "# Classes can keep a record of past states with custom updates.\n",
    "@dataclasses.dataclass\n",
    "class MontoringStation:\n",
    "    sensor_type: str\n",
    "    sensor_serial_number: int\n",
    "    longitude: float\n",
    "    latitude: float\n",
    "    deploy_date: dt.date\n",
    "\n",
    "    def __post_init__(self):\n",
    "        # Register\n",
    "        self.previous_deployments: list[tuple[float, float, dt.date]] = []\n",
    "        self.deploy(self.longitude, self.latitude, self.deploy_date)\n",
    "\n",
    "    def uptime(self) -> int:\n",
    "        \"\"\"Return time since deploy date in days\"\"\"\n",
    "        delta = dt.date.today() - self.deploy_date\n",
    "        return delta.days\n",
    "\n",
    "    def deploy(\n",
    "        self, longitude: float, latitude: float, deploy_date: dt.date = dt.date.today()\n",
    "    ):\n",
    "        \"\"\"Record a new deployment of the sensor.\"\"\"\n",
    "        # Store old deployment\n",
    "        current_deployment = (self.longitude, self.latitude, self.deploy_date)\n",
    "        self.previous_deployments.append(current_deployment)\n",
    "\n",
    "        # Update current attributes\n",
    "        self.longitude = longitude\n",
    "        self.latitude = latitude\n",
    "        self.deploy_date = deploy_date\n",
    "    \n",
    "    # A property is a method that takes only \"self\" as an argument and\n",
    "    # behaves like an (read only in this case) attribute.\n",
    "    @property\n",
    "    def deployments_count(self):\n",
    "        return len(self.previous_deployments)\n",
    "\n",
    "\n",
    "station = MontoringStation(\n",
    "    sensor_type=\"Guralp 2000\",\n",
    "    sensor_serial_number=1234,\n",
    "    latitude=54.0,\n",
    "    longitude=-3.1,\n",
    "    deploy_date=dt.date(2023, 1, 20)\n",
    ")\n",
    "\n",
    "station.deploy(52, -2, dt.date(2024, 1, 12))\n",
    "station.deploy(63, -14, dt.date(2024, 6, 2))\n",
    "print(f\"deployments count: {station.deployments_count}\")\n",
    "print(f\"previous deployments: {station.previous_deployments}\")"
   ]
  },
  {
   "cell_type": "code",
   "execution_count": 9,
   "metadata": {},
   "outputs": [
    {
     "name": "stdout",
     "output_type": "stream",
     "text": [
      "seismic uptime: 11690 days\n",
      "geomag deployments: 1\n"
     ]
    }
   ],
   "source": [
    "# Inheritance allows classes to reuse code.\n",
    "@dataclasses.dataclass\n",
    "class SeismicMonitoringStation(MontoringStation):\n",
    "    high_pass_filter_frequency: float\n",
    "\n",
    "\n",
    "@dataclasses.dataclass\n",
    "class GeoMagMonitoringStation(MontoringStation):\n",
    "    magnet_type: str\n",
    "\n",
    "\n",
    "seismic_station = SeismicMonitoringStation(\n",
    "    sensor_type=\"Guralp 2000\",\n",
    "    sensor_serial_number=1234,\n",
    "    latitude=54.0,\n",
    "    longitude=-3.1,\n",
    "    deploy_date=dt.date(1993, 1, 20),\n",
    "    high_pass_filter_frequency=45.3\n",
    ")\n",
    "\n",
    "geomag_station = GeoMagMonitoringStation(\n",
    "    sensor_type=\"MagTastic SuperPro\",\n",
    "    sensor_serial_number=9999,\n",
    "    latitude=54.0,\n",
    "    longitude=-3.1,\n",
    "    deploy_date=dt.date(2003, 3, 5),\n",
    "    magnet_type=\"Inductive Pickup\"\n",
    ")\n",
    "\n",
    "print(f\"seismic uptime: {seismic_station.uptime()} days\")\n",
    "print(f\"geomag deployments: {geomag_station.deployments_count}\")"
   ]
  },
  {
   "cell_type": "markdown",
   "metadata": {},
   "source": [
    "### Exercise\n",
    "\n",
    "+ Create a MonitoringStationCatalog class.  Internally, it should store a private list of stations with a public-facing `register` method that adds in a new station. It should have a public method for `get_station_count`\n",
    "+ Add in the stations above.\n",
    "+ Add a `locations()` function that returns a dictionary of data, with serial_number as the key and a tuple of (longitude, latitude) as the value.\n",
    "+ Note what happens to the locations() result when you redeploy any of the stations.\n",
    "+ BONUS: add an `unregister` function that removes a station based on the serial number."
   ]
  }
 ],
 "metadata": {
  "kernelspec": {
   "display_name": "base",
   "language": "python",
   "name": "python3"
  },
  "language_info": {
   "codemirror_mode": {
    "name": "ipython",
    "version": 3
   },
   "file_extension": ".py",
   "mimetype": "text/x-python",
   "name": "python",
   "nbconvert_exporter": "python",
   "pygments_lexer": "ipython3",
   "version": "3.12.4"
  }
 },
 "nbformat": 4,
 "nbformat_minor": 2
}
